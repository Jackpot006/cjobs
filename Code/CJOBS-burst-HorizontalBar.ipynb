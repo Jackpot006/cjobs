{
 "cells": [
  {
   "cell_type": "code",
   "execution_count": 1,
   "metadata": {
    "collapsed": true
   },
   "outputs": [],
   "source": [
    "%matplotlib inline\n",
    "import sys\n",
    "from collections import defaultdict, Counter\n",
    "import numpy as np\n",
    "import pandas as pd\n",
    "import pylab as plt\n",
    "import math\n",
    "from itertools import chain\n",
    "#import matplotlib.cm as cm\n",
    "import statsmodels.api as sm\n",
    "from os import listdir\n",
    "import random\n",
    "from copy import deepcopy\n",
    "import time\n",
    "import matplotlib.cm as cm\n",
    "from numpy.random import choice\n",
    "import itertools\n",
    "import operator\n",
    "import matplotlib.mlab as mlab\n",
    "import re"
   ]
  },
  {
   "cell_type": "markdown",
   "metadata": {},
   "source": [
    "## Burst Plot"
   ]
  },
  {
   "cell_type": "markdown",
   "metadata": {},
   "source": [
    "### Load sci2 Burst Data"
   ]
  },
  {
   "cell_type": "code",
   "execution_count": 2,
   "metadata": {
    "collapsed": false
   },
   "outputs": [],
   "source": [
    "skills=[]\n",
    "weight=[]\n",
    "length=[]\n",
    "start=[]\n",
    "stop=[]\n",
    "cat=[]\n",
    "\n",
    "with open('job-pub-both-burst.txt','r', encoding ='latin') as f:\n",
    "    for line in f:\n",
    "        line=line.strip().split('\\t')\n",
    "        s = int(line[4])+1\n",
    "        skills.append(line[0].lower().replace('_',' ').title())\n",
    "        weight.append(line[1])\n",
    "        start.append(line[3])\n",
    "        stop.append(s)\n",
    "        cat.append(line[5])\n",
    "df = pd.DataFrame(\n",
    "    {'skill': skills,\n",
    "     'weight': weight,\n",
    "     'start': start,\n",
    "     'stop': stop,\n",
    "     'type': cat\n",
    "    })\n",
    "\n",
    "df.start = df.start.astype(int)   \n",
    "df.stop=df.stop.astype(int)\n",
    "df.weight=df.weight.astype(float)\n",
    "        "
   ]
  },
  {
   "cell_type": "markdown",
   "metadata": {},
   "source": [
    "Make a subset of jobs and publications"
   ]
  },
  {
   "cell_type": "code",
   "execution_count": 3,
   "metadata": {
    "collapsed": true
   },
   "outputs": [],
   "source": [
    "dfjob = df[(df['type']=='job')]"
   ]
  },
  {
   "cell_type": "code",
   "execution_count": 4,
   "metadata": {
    "collapsed": false
   },
   "outputs": [],
   "source": [
    "dfpub = df[(df['type']=='pub')]"
   ]
  },
  {
   "cell_type": "code",
   "execution_count": 5,
   "metadata": {
    "collapsed": true
   },
   "outputs": [],
   "source": [
    "dfjob = dfjob.sort_values(ascending=False, by = 'skill' )\n",
    "dfpub = dfpub.sort_values(ascending=False, by = 'skill' )\n",
    "dfpub = dfpub.reset_index(drop=True)\n",
    "dfjob = dfjob.reset_index(drop=True)"
   ]
  },
  {
   "cell_type": "code",
   "execution_count": 16,
   "metadata": {
    "collapsed": true
   },
   "outputs": [],
   "source": [
    "\n",
    "# Skills from jobs that occur more than once\n",
    "\n",
    "repjob = dfjob.loc[[1,4,6,10,16]]\n",
    "reppub = dfpub.loc[[13]]\n",
    "repjob = repjob.reset_index(drop=True)\n",
    "reppub = reppub.reset_index(drop=True)"
   ]
  },
  {
   "cell_type": "code",
   "execution_count": 7,
   "metadata": {
    "collapsed": false
   },
   "outputs": [],
   "source": [
    "dfjobsingle =dfjob.drop([1,4,6,10,16])\n",
    "dfjobsingle=dfjobsingle.sort_values(ascending=False, by = 'skill' )\n",
    "dfpubsingle =dfpub.drop(13)\n",
    "dfpubsingle=dfpubsingle.sort_values(ascending=False, by = 'skill' )\n",
    "dfpubsingle = dfpubsingle.reset_index(drop=True)\n",
    "dfjobsingle = dfjobsingle.reset_index(drop=True)"
   ]
  },
  {
   "cell_type": "code",
   "execution_count": 17,
   "metadata": {
    "collapsed": false
   },
   "outputs": [
    {
     "data": {
      "text/html": [
       "<div>\n",
       "<table border=\"1\" class=\"dataframe\">\n",
       "  <thead>\n",
       "    <tr style=\"text-align: right;\">\n",
       "      <th></th>\n",
       "      <th>skill</th>\n",
       "      <th>start</th>\n",
       "      <th>stop</th>\n",
       "      <th>type</th>\n",
       "      <th>weight</th>\n",
       "    </tr>\n",
       "  </thead>\n",
       "  <tbody>\n",
       "    <tr>\n",
       "      <th>0</th>\n",
       "      <td>Apache Hadoop</td>\n",
       "      <td>2016</td>\n",
       "      <td>2017</td>\n",
       "      <td>pub</td>\n",
       "      <td>7.519991</td>\n",
       "    </tr>\n",
       "  </tbody>\n",
       "</table>\n",
       "</div>"
      ],
      "text/plain": [
       "           skill  start  stop type    weight\n",
       "0  Apache Hadoop   2016  2017  pub  7.519991"
      ]
     },
     "execution_count": 17,
     "metadata": {},
     "output_type": "execute_result"
    }
   ],
   "source": [
    "reppub"
   ]
  },
  {
   "cell_type": "code",
   "execution_count": 10,
   "metadata": {
    "collapsed": false
   },
   "outputs": [
    {
     "data": {
      "text/html": [
       "<div>\n",
       "<table border=\"1\" class=\"dataframe\">\n",
       "  <thead>\n",
       "    <tr style=\"text-align: right;\">\n",
       "      <th></th>\n",
       "      <th>skill</th>\n",
       "      <th>start</th>\n",
       "      <th>stop</th>\n",
       "      <th>type</th>\n",
       "      <th>weight</th>\n",
       "    </tr>\n",
       "  </thead>\n",
       "  <tbody>\n",
       "    <tr>\n",
       "      <th>0</th>\n",
       "      <td>Web Analytics</td>\n",
       "      <td>2012</td>\n",
       "      <td>2014</td>\n",
       "      <td>job</td>\n",
       "      <td>69.190421</td>\n",
       "    </tr>\n",
       "    <tr>\n",
       "      <th>1</th>\n",
       "      <td>Storage Systems</td>\n",
       "      <td>2012</td>\n",
       "      <td>2014</td>\n",
       "      <td>job</td>\n",
       "      <td>15.202933</td>\n",
       "    </tr>\n",
       "    <tr>\n",
       "      <th>2</th>\n",
       "      <td>Social Media</td>\n",
       "      <td>2012</td>\n",
       "      <td>2014</td>\n",
       "      <td>job</td>\n",
       "      <td>27.600040</td>\n",
       "    </tr>\n",
       "    <tr>\n",
       "      <th>3</th>\n",
       "      <td>Social Gaming</td>\n",
       "      <td>2014</td>\n",
       "      <td>2015</td>\n",
       "      <td>job</td>\n",
       "      <td>12.913041</td>\n",
       "    </tr>\n",
       "    <tr>\n",
       "      <th>4</th>\n",
       "      <td>Maximo</td>\n",
       "      <td>2016</td>\n",
       "      <td>2017</td>\n",
       "      <td>job</td>\n",
       "      <td>17.262667</td>\n",
       "    </tr>\n",
       "    <tr>\n",
       "      <th>5</th>\n",
       "      <td>Marketing Analytics</td>\n",
       "      <td>2016</td>\n",
       "      <td>2017</td>\n",
       "      <td>job</td>\n",
       "      <td>68.995859</td>\n",
       "    </tr>\n",
       "    <tr>\n",
       "      <th>6</th>\n",
       "      <td>Industrial Engineering</td>\n",
       "      <td>2010</td>\n",
       "      <td>2012</td>\n",
       "      <td>job</td>\n",
       "      <td>3.672208</td>\n",
       "    </tr>\n",
       "    <tr>\n",
       "      <th>7</th>\n",
       "      <td>Hrms</td>\n",
       "      <td>2013</td>\n",
       "      <td>2015</td>\n",
       "      <td>job</td>\n",
       "      <td>2.885990</td>\n",
       "    </tr>\n",
       "    <tr>\n",
       "      <th>8</th>\n",
       "      <td>Facebook</td>\n",
       "      <td>2010</td>\n",
       "      <td>2014</td>\n",
       "      <td>job</td>\n",
       "      <td>383.553575</td>\n",
       "    </tr>\n",
       "    <tr>\n",
       "      <th>9</th>\n",
       "      <td>Environmental Science</td>\n",
       "      <td>2010</td>\n",
       "      <td>2013</td>\n",
       "      <td>job</td>\n",
       "      <td>7.209913</td>\n",
       "    </tr>\n",
       "    <tr>\n",
       "      <th>10</th>\n",
       "      <td>Energy Engineering</td>\n",
       "      <td>2010</td>\n",
       "      <td>2012</td>\n",
       "      <td>job</td>\n",
       "      <td>14.224984</td>\n",
       "    </tr>\n",
       "    <tr>\n",
       "      <th>11</th>\n",
       "      <td>Electrical Engineering</td>\n",
       "      <td>2010</td>\n",
       "      <td>2012</td>\n",
       "      <td>job</td>\n",
       "      <td>48.012986</td>\n",
       "    </tr>\n",
       "    <tr>\n",
       "      <th>12</th>\n",
       "      <td>Document Management</td>\n",
       "      <td>2015</td>\n",
       "      <td>2017</td>\n",
       "      <td>job</td>\n",
       "      <td>3.104794</td>\n",
       "    </tr>\n",
       "    <tr>\n",
       "      <th>13</th>\n",
       "      <td>Apache Hadoop</td>\n",
       "      <td>2016</td>\n",
       "      <td>2017</td>\n",
       "      <td>job</td>\n",
       "      <td>94.676482</td>\n",
       "    </tr>\n",
       "    <tr>\n",
       "      <th>14</th>\n",
       "      <td>Android</td>\n",
       "      <td>2012</td>\n",
       "      <td>2014</td>\n",
       "      <td>job</td>\n",
       "      <td>53.391384</td>\n",
       "    </tr>\n",
       "  </tbody>\n",
       "</table>\n",
       "</div>"
      ],
      "text/plain": [
       "                     skill  start  stop type      weight\n",
       "0            Web Analytics   2012  2014  job   69.190421\n",
       "1          Storage Systems   2012  2014  job   15.202933\n",
       "2             Social Media   2012  2014  job   27.600040\n",
       "3            Social Gaming   2014  2015  job   12.913041\n",
       "4                   Maximo   2016  2017  job   17.262667\n",
       "5      Marketing Analytics   2016  2017  job   68.995859\n",
       "6   Industrial Engineering   2010  2012  job    3.672208\n",
       "7                     Hrms   2013  2015  job    2.885990\n",
       "8                 Facebook   2010  2014  job  383.553575\n",
       "9    Environmental Science   2010  2013  job    7.209913\n",
       "10      Energy Engineering   2010  2012  job   14.224984\n",
       "11  Electrical Engineering   2010  2012  job   48.012986\n",
       "12     Document Management   2015  2017  job    3.104794\n",
       "13           Apache Hadoop   2016  2017  job   94.676482\n",
       "14                 Android   2012  2014  job   53.391384"
      ]
     },
     "execution_count": 10,
     "metadata": {},
     "output_type": "execute_result"
    }
   ],
   "source": [
    "dfjobsingle"
   ]
  },
  {
   "cell_type": "code",
   "execution_count": 19,
   "metadata": {
    "collapsed": false
   },
   "outputs": [
    {
     "data": {
      "image/png": "[encoded data removed]",
      "text/plain": [
       "<Figure size 648x324 with 1 Axes>"
      ]
     },
     "metadata": {},
     "output_type": "display_data"
    }
   ],
   "source": [
    "\n",
    "plt.rcParams['svg.fonttype'] = 'none'\n",
    "fig = plt.figure(figsize=(9, 4.5),facecolor='white')\n",
    "#end = np.array(df[['stop']])\n",
    "ax1 = fig.add_subplot(111)\n",
    "ax1.set_xlim((2009.8, 2017.2))\n",
    "ax1.barh(range(len(dfjobsingle.start)),  dfjobsingle.stop-dfjobsingle.start, left=dfjobsingle.start, color=\"#3182bd\",alpha=0.3)\n",
    "ax1.barh(range(len(dfpubsingle.start)),  dfpubsingle.stop-dfpubsingle.start, left=dfpubsingle.start, color=\"#006d2c\", alpha=0.3)\n",
    "ax1.barh([1,3,4,7,12],  repjob.stop-repjob.start, left=repjob.start, color=\"#3182bd\", alpha=0.3)\n",
    "ax1.barh(13,  reppub.stop-reppub.start, left=reppub.start, color=\"#006d2c\", alpha=0.3)\n",
    "ax1.yaxis.set_ticks_position('none')\n",
    "\n",
    "my_yticks=dfjobsingle.skill\n",
    "y = list(range(0, 16))\n",
    "\n",
    "plt.yticks(y, my_yticks)\n",
    "#plt.savefig('Fig4-burst-job-pub-06-26.png')\n",
    "#plt.savefig('Fig4-burst-job-pub-06-26.svg')\n",
    "plt.show()"
   ]
  }
 ],
 "metadata": {
  "kernelspec": {
   "display_name": "Python 3",
   "language": "python",
   "name": "python3"
  },
  "language_info": {
   "codemirror_mode": {
    "name": "ipython",
    "version": 3
   },
   "file_extension": ".py",
   "mimetype": "text/x-python",
   "name": "python",
   "nbconvert_exporter": "python",
   "pygments_lexer": "ipython3",
   "version": "3.6.3"
  }
 },
 "nbformat": 4,
 "nbformat_minor": 2
}
