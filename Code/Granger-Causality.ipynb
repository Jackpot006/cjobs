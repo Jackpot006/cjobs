{
 "cells": [
  {
   "cell_type": "code",
   "execution_count": 6,
   "metadata": {
    "collapsed": false
   },
   "outputs": [],
   "source": [
    "%matplotlib inline\n",
    "import sys\n",
    "from collections import defaultdict, Counter\n",
    "import networkx as nx\n",
    "import numpy as np\n",
    "import pylab as plt\n",
    "import math\n",
    "from itertools import chain\n",
    "#import matplotlib.cm as cm\n",
    "import statsmodels.api as sm\n",
    "from os import listdir\n",
    "from scipy.stats.stats import pearsonr\n",
    "import json\n",
    "import random\n",
    "import itertools\n",
    "from copy import deepcopy\n",
    "import time\n",
    "import scipy as sp\n",
    "from scipy.sparse import csr_matrix\n",
    "from scipy.stats import entropy\n",
    "import matplotlib.cm as cm\n",
    "from numpy.random import choice\n",
    "import itertools\n",
    "from sklearn import manifold\n",
    "import operator\n",
    "import itertools\n",
    "from datetime import datetime as dt\n",
    "import matplotlib.mlab as mlab\n",
    "from scipy.stats import norm\n",
    "import re\n",
    "from scipy import stats\n",
    "from scipy.spatial import Voronoi\n",
    "from scipy import sparse\n",
    "from sklearn.metrics.pairwise import cosine_similarity\n",
    "from scipy.stats.mstats import zscore\n",
    "from statsmodels.tsa.stattools import grangercausalitytests\n",
    "from matplotlib_venn import venn3, venn3_circles, venn2, venn2_circles"
   ]
  },
  {
   "cell_type": "markdown",
   "metadata": {},
   "source": [
    "## Granger Test requires two time series"
   ]
  },
  {
   "cell_type": "markdown",
   "metadata": {},
   "source": [
    "### Load Time Series 1 - Jobs\n",
    "2010-2016 Data Science Data Engineering Burning Glass DataSet (see PNAS paper for more info)\n"
   ]
  },
  {
   "cell_type": "code",
   "execution_count": 1,
   "metadata": {
    "collapsed": false
   },
   "outputs": [],
   "source": [
    "\n",
    "J={}\n",
    "with open('time_series1.txt','r', encoding ='latin') as f:\n",
    "    for line in f:\n",
    "        line=line.strip()\n",
    "        skill=line.split('[')[0].strip().lower() # extract skill\n",
    "        vs=line.split('[')[1].split(']')[0].split(',') # vector : extract years + frequency - all content split by commas\n",
    "        dic=dict((int(i.split(':')[0]),int(i.split(':')[1])) for i in vs) # split year and freq\n",
    "        # KEY is skill, VALUE is year, freq \n",
    "        J[skill]=dic\n"
   ]
  },
  {
   "cell_type": "markdown",
   "metadata": {},
   "source": [
    "### Load Time Series 2 - Publication\n",
    "2010-2016 Web of Science IU dataset - Data Science and Data Engineering subset"
   ]
  },
  {
   "cell_type": "code",
   "execution_count": 2,
   "metadata": {
    "collapsed": false
   },
   "outputs": [],
   "source": [
    "W={}   # only skills that are matched to skills in DSDE Jobs\n",
    "with open('time_series2.txt','r', encoding = 'latin') as f:\n",
    "    for line in f:\n",
    "        line=line.strip()\n",
    "        skill=line.split('[')[0].strip().lower() # extract skill\n",
    "        if skill in J:\n",
    "            vs=line.split('[')[1].split(']')[0].split(',') # vector : extract years + frequency - all content split by commas\n",
    "            dic=dict((int(i.split(':')[0]),int(i.split(':')[1])) for i in vs) # split year and freq\n",
    "            W[skill]=dic\n",
    "\n"
   ]
  },
  {
   "cell_type": "markdown",
   "metadata": {},
   "source": [
    "### Data Transformation and Alignment\n",
    "two time series must be of the same size and the same keys (elements)"
   ]
  },
  {
   "cell_type": "code",
   "execution_count": 8,
   "metadata": {
    "collapsed": false
   },
   "outputs": [],
   "source": [
    "#JOBS\n",
    "JW={}\n",
    "for i in J:\n",
    "\n",
    "    if i in W.keys():\n",
    "        JW[i] = J[i]\n"
   ]
  },
  {
   "cell_type": "code",
   "execution_count": 9,
   "metadata": {
    "collapsed": false
   },
   "outputs": [],
   "source": [
    "### Add non-zero values\n",
    "for key, value in JW.items():\n",
    "\n",
    "    for i in JW[key]:\n",
    "        if JW[key][i]==0:\n",
    "            JW[key][i]=0.00001\n"
   ]
  },
  {
   "cell_type": "code",
   "execution_count": 10,
   "metadata": {
    "collapsed": false
   },
   "outputs": [],
   "source": [
    "#3.  split J by year and find total per year\n",
    "## JOB DATA TRANSFORMATION USE JW\n",
    "JT=defaultdict(int) # initializing first dictionary for collection/list\n",
    "for i in JW:\n",
    "    for year in JW[i]:\n",
    "        JT[year]+=JW[i][year]\n",
    "\n",
    "JN={}\n",
    "for i in JW:\n",
    "    dic=dict((k,v/float(JT[k])) for k,v in JW[i].items() if 2010<=k<=2016 and v!=0)#if 2010<=k<=2016 and v!=0 ) \n",
    "\n",
    "    if len(dic)==7:\n",
    "        JN[i]=dic"
   ]
  },
  {
   "cell_type": "code",
   "execution_count": 11,
   "metadata": {
    "collapsed": true
   },
   "outputs": [],
   "source": [
    "## PUBS - Addd non-zero values\n",
    "for key, value in W.items():\n",
    "\n",
    "    for i in W[key]:\n",
    "        if W[key][i]==0:\n",
    "            W[key][i]=0.00001"
   ]
  },
  {
   "cell_type": "code",
   "execution_count": 12,
   "metadata": {
    "collapsed": true
   },
   "outputs": [],
   "source": [
    "#  WOS data transformation\n",
    "WT=defaultdict(int)\n",
    "for i in W:\n",
    "    for year in W[i]:\n",
    "        WT[year]+=W[i][year]\n",
    "WN={}\n",
    "for i in W:\n",
    "    dic=dict((k,v/float(WT[k])) for k,v in W[i].items() if 2010<=k<=2016)# and v!=0)\n",
    "    if len(dic)==7:\n",
    "        WN[i]=dic"
   ]
  },
  {
   "cell_type": "code",
   "execution_count": 13,
   "metadata": {
    "collapsed": false
   },
   "outputs": [
    {
     "data": {
      "text/plain": [
       "(2376, 2376)"
      ]
     },
     "execution_count": 13,
     "metadata": {},
     "output_type": "execute_result"
    }
   ],
   "source": [
    "len(JN), len(WN)"
   ]
  },
  {
   "cell_type": "markdown",
   "metadata": {},
   "source": [
    "### Granger Calculation"
   ]
  },
  {
   "cell_type": "code",
   "execution_count": 15,
   "metadata": {
    "collapsed": false
   },
   "outputs": [],
   "source": [
    "years=range(2010,2017) # start 2010, up to excluding 2017\n",
    "ts={}\n",
    "gs={}"
   ]
  },
  {
   "cell_type": "code",
   "execution_count": 16,
   "metadata": {
    "collapsed": false,
    "scrolled": false
   },
   "outputs": [],
   "source": [
    "# GRANGER CAUSALITY FORMULA\n",
    "#s - skills\n",
    "# WN dictionary (skill {year: frequency, year2: frequency})\n",
    "#years 2010-2016\n",
    "# Create a dictionary to store S, x1 WOS, x2 JOBS\n",
    "for s in list(WN.keys()):\n",
    "\n",
    "    if s in JN:\n",
    "        x1=[WN[s][i] for i in years]\n",
    "        x2=[JN[s][i] for i in years]\n",
    "        ts[s]=[x1,x2]\n",
    " \n",
    "        rs1=grangercausalitytests(list(zip(x1, x2)),1, verbose=False) ### INDUSTRY precedes Acadaemia added list for python 3\n",
    "        rs2=grangercausalitytests(list(zip(x2,x1)),1,verbose = False)  # Academie to INDUSTRY change to tRUE to see causality info\n",
    "        f_Ind2Aca=rs1[1][0]['params_ftest'][0]\n",
    "        p_Ind2Aca=rs1[1][0]['params_ftest'][1]\n",
    "\n",
    "        beta_Ind2Aca=rs1[1][1][1].params[1]   # to do\n",
    "\n",
    "        f_Aca2Ind=rs2[1][0]['params_ftest'][0]\n",
    "        p_Aca2Ind=rs2[1][0]['params_ftest'][1]\n",
    "        beta_Aca2Ind=rs2[1][1][1].params[1] # Academia to Industry \n",
    "\n",
    "        lrt_Ind2Aca = rs1[1][0]['lrtest'][1]\n",
    "        lrt_Aca2Ind = rs2[1][0]['lrtest'][1]\n",
    "\n",
    "        gs[s]=[beta_Ind2Aca,f_Ind2Aca,p_Ind2Aca,lrt_Ind2Aca,beta_Aca2Ind,f_Aca2Ind,p_Aca2Ind,lrt_Aca2Ind]  # beta1, F1, beta2, F2\n",
    "\n",
    "# ({'ssr_ftest': (11.205867668505235, 0.18480451282753935, 1.0, 1), \n",
    "#'ssr_chi2test': (44.823470674020939, 2.1562254925768266e-11, 1), \n",
    "#'lrtest': (10.007667170206375, 0.0015588986043359847, 1), \n",
    "#'params_ftest': (11.205867668505167, 0.18480451282753985, 1.0, 1)},\n"
   ]
  },
  {
   "cell_type": "code",
   "execution_count": 17,
   "metadata": {
    "collapsed": false
   },
   "outputs": [],
   "source": [
    "beta_Ind2Aca,f_Ind2Aca,p_Ind2Aca,lrt_Ind2Aca,beta_Aca2Ind,f_Aca2Ind,p_Aca2Ind,lrt_Aca2Ind=np.array(list(gs.values())).T # The T attribute is the transpose of \n",
    "#the array. Add list in python 3"
   ]
  },
  {
   "cell_type": "code",
   "execution_count": 19,
   "metadata": {
    "collapsed": false
   },
   "outputs": [
    {
     "data": {
      "image/png": "[encoded data removed]",
      "text/plain": [
       "<Figure size 720x360 with 2 Axes>"
      ]
     },
     "metadata": {},
     "output_type": "display_data"
    }
   ],
   "source": [
    "fig = plt.figure(figsize=(10, 5),facecolor='white')\n",
    "\n",
    "ax = fig.add_subplot(121)\n",
    "plt.hist(p_Ind2Aca,100,label=r'$Industry\\ To\\ Academia$',color='#377eb8')\n",
    "plt.hist(p_Aca2Ind,100,label=r'$Academia\\ To\\ Industry$',color='#4daf4a')\n",
    "plt.title(r'$P\\ values\\ from F-Test$')\n",
    "plt.xlim(0,1)\n",
    "plt.xticks(np.arange(0, 1, 0.05),rotation=70)\n",
    "#plt.xlim(-200,200)\n",
    "plt.legend(loc=1,fontsize=10,frameon=False)\n",
    "ax = fig.add_subplot(122)\n",
    "plt.hist(np.log2(f_Ind2Aca), 70,label=r'$Industry\\ To\\ Academia$', color='#377eb8') # number of bins\n",
    "plt.hist(np.log2(f_Aca2Ind), 70,label=r'$Academia\\ To\\ Industry$',color='#4daf4a') # number of bins\n",
    "plt.title(r'$F-Test (Log)$')\n",
    "plt.legend(loc=2,fontsize=10,frameon=False)\n",
    "#plt.savefig('granger-P-F-histograms.png')\n",
    "plt.tight_layout()"
   ]
  },
  {
   "cell_type": "markdown",
   "metadata": {},
   "source": [
    "## Extract Significant Values"
   ]
  },
  {
   "cell_type": "code",
   "execution_count": 21,
   "metadata": {
    "collapsed": false
   },
   "outputs": [],
   "source": [
    "#Extract significant p-Values\n",
    "IndAca = {}\n",
    "AcaInd = {}\n",
    "for i in gs:\n",
    "    g = gs[i]\n",
    "    if g[2] < 0.05:\n",
    "        IndAca[i] = g\n",
    "    if g[6] < 0.05:\n",
    "        AcaInd[i] = g\n",
    "     "
   ]
  },
  {
   "cell_type": "markdown",
   "metadata": {},
   "source": [
    "### Intersect of Granger between two time series\n",
    "how many overlapping events show granger significance in boths sets"
   ]
  },
  {
   "cell_type": "code",
   "execution_count": 30,
   "metadata": {
    "collapsed": false
   },
   "outputs": [
    {
     "name": "stdout",
     "output_type": "stream",
     "text": [
      "allele\t49.2729121393\t16.9175220557\n",
      "angularjs\t179.371616165\t79.7375397616\n",
      "chef\t18.7768823344\t22.2475347276\n",
      "computational tools\t10.9552803033\t15.3367821155\n",
      "linkage analysis\t17.3247357388\t13.8606915632\n",
      "product knowledge\t13.3409358262\t16.9368117803\n",
      "rsx\t19.9009696407\t11.7683551033\n",
      "solar photovoltaic design\t81.8773122923\t71.8572202382\n",
      "transcription\t15.8515047247\t1924.05151096\n",
      "trial design\t52.6159857524\t34.0386676002\n"
     ]
    }
   ],
   "source": [
    "# find 10 skills that intersect and their F values\n",
    "for i in IndAca:\n",
    "    if i in AcaInd:           \n",
    "        print(i + '\\t' + str(IndAca[i][1]) + '\\t'+ str(AcaInd[i][5]))"
   ]
  },
  {
   "cell_type": "code",
   "execution_count": 21,
   "metadata": {
    "collapsed": false
   },
   "outputs": [],
   "source": [
    "# Save ALL F and p-values into a text files (rename file if needed)\n",
    "file1 = open(\"F-test-WOS-JOBS.txt\", \"w\")\n",
    "file1.write('skill' + '\\t' + 'FIndAca' + '\\t' + 'pIndAca' + '\\t' + 'FAcaInd' + '\\t' + 'pAcaInd' + '\\n')\n",
    "for i in gs:\n",
    "    file1.write(str(i) + '\\t' + str(gs[i][1]) +'\\t' + str(gs[i][2]) + '\\t' + str(gs[i][5]) + '\\t' + str(gs[i][6]) +'\\n')\n",
    "file1.close()"
   ]
  }
 ],
 "metadata": {
  "kernelspec": {
   "display_name": "Python 3",
   "language": "python",
   "name": "python3"
  },
  "language_info": {
   "codemirror_mode": {
    "name": "ipython",
    "version": 3
   },
   "file_extension": ".py",
   "mimetype": "text/x-python",
   "name": "python",
   "nbconvert_exporter": "python",
   "pygments_lexer": "ipython3",
   "version": "3.6.3"
  }
 },
 "nbformat": 4,
 "nbformat_minor": 0
}
