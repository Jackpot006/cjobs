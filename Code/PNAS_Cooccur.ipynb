{
 "cells": [
  {
   "cell_type": "code",
   "execution_count": 9,
   "metadata": {
    "collapsed": true
   },
   "outputs": [],
   "source": [
    "%matplotlib inline\n",
    "import sys\n",
    "from collections import defaultdict, Counter\n",
    "import networkx as nx\n",
    "import numpy as np\n",
    "import pylab as plt\n",
    "import torch as th\n",
    "import json\n",
    "import math\n",
    "#import matplotlib.cm as cm\n",
    "import statsmodels.api as sm\n",
    "from os import listdir\n",
    "from scipy.stats.stats import pearsonr\n",
    "import json\n",
    "import random\n",
    "import itertools\n",
    "from copy import deepcopy\n",
    "import time\n",
    "import scipy as sp\n",
    "from scipy.sparse import csr_matrix\n",
    "import matplotlib.cm as cm\n",
    "from numpy.random import choice\n",
    "import itertools\n",
    "from sklearn import manifold\n",
    "import operator\n",
    "import itertools\n",
    "from datetime import datetime as dt\n",
    "import matplotlib.mlab as mlab\n",
    "from scipy.stats import norm\n",
    "import re\n",
    "from scipy import stats\n",
    "from scipy.spatial import Voronoi\n",
    "from scipy import sparse\n",
    "from sklearn.metrics.pairwise import cosine_similarity\n",
    "from scipy.stats.mstats import zscore\n",
    "\n",
    "# flush print\n",
    "def flushPrint(d):\n",
    "    sys.stdout.write('\\r')\n",
    "    sys.stdout.write(d)\n",
    "    sys.stdout.flush()\n",
    "\n",
    "def DiffusionWeightAverage(threshold,data):#[value,samplesize] in data\n",
    "    smoothData=[data[0]]\n",
    "    for n,j in enumerate(data[1:]):\n",
    "        value,sampleSize=j\n",
    "        if sampleSize<threshold:\n",
    "            lastValue,lastSampleSize=smoothData[n-1]\n",
    "            value=np.average([lastValue,value], weights=[lastSampleSize, sampleSize])\n",
    "        smoothData.append([value,sampleSize])\n",
    "    return smoothData\n",
    "\n",
    "def OLSRegressFit(x,y):\n",
    "    xx = sm.add_constant(x, prepend=True)\n",
    "    res = sm.OLS(y,xx).fit()\n",
    "    constant, beta = res.params\n",
    "    r2 = res.rsquared\n",
    "    return [constant,beta] \n",
    "\n",
    "def clean(s): return re.sub('[^A-Za-z0-9]+', ' ', s).strip().lower()\n",
    "\n",
    "def cart2pol(x, y):\n",
    "    rho = np.sqrt(x**2 + y**2)\n",
    "    phi = np.arctan2(y, x)\n",
    "    return phi,rho"
   ]
  },
  {
   "cell_type": "markdown",
   "metadata": {},
   "source": [
    "# Co-occur data"
   ]
  },
  {
   "cell_type": "code",
   "execution_count": 275,
   "metadata": {
    "collapsed": false
   },
   "outputs": [
    {
     "name": "stdout",
     "output_type": "stream",
     "text": [
      "163"
     ]
    }
   ],
   "source": [
    "'''\n",
    "# open syllabus\n",
    "E={}\n",
    "n=0\n",
    "with open('/Users/lingfeiw/Documents/research/KatyPNAS/openSy/coocur.txt','r') as f:\n",
    "    for line in f:#163\n",
    "        n+=1\n",
    "        if n%100000==0:\n",
    "            flushPrint(str(n/100000))\n",
    "        line=line.strip().split('\\t')\n",
    "        if len(line)==3:\n",
    "            i,j,w=line\n",
    "            E[(i,j)]=int(w)\n",
    "E=sorted(E.items(),key=lambda x:-x[1])\n",
    "path='/Users/lingfeiw/Documents/research/KatyPNAS/data/skill_cooccur/openSy_Co.txt'\n",
    "with open(path,'w') as f:\n",
    "    for k,v in sorted(E.items(),key=lambda x:-x[1]):\n",
    "        i,j=k\n",
    "        f.write(i+'\\t'+j + '\\t'+str(v)+'\\n')\n",
    "        \n",
    "# BG\n",
    "W={}\n",
    "E={}\n",
    "n=0\n",
    "with open('/Users/lingfeiw/Documents/research/KatyPNAS/data/skill_cooccur/skills_MAIN_maxmatch_2010-2016.nwb','r') as f:\n",
    "    for line in f:#80\n",
    "        n+=1\n",
    "        if n%100000==0:\n",
    "            flushPrint(str(n/100000))\n",
    "        line=line.strip().split('\\t')\n",
    "        if len(line)==2:\n",
    "            idx,skill=line\n",
    "            W[int(idx)]=skill.split('\"')[1]\n",
    "        if len(line)==3:\n",
    "            i,j,w=map(int,line)\n",
    "            E[(i,j)]=w\n",
    "S={}\n",
    "for k,v in E.items():\n",
    "    i,j=k\n",
    "    S[(W[i],W[j])]=v\n",
    "path='/Users/lingfeiw/Documents/research/KatyPNAS/data/skill_cooccur/BG_Co.txt'\n",
    "with open(path,'w') as f:\n",
    "    for k,v in sorted(S.items(),key=lambda x:-x[1]):\n",
    "        i,j=k\n",
    "        f.write(i+'\\t'+j + '\\t'+str(v)+'\\n')\n",
    "        \n",
    "# WOS papers\n",
    "E=defaultdict(lambda:0)\n",
    "n=0\n",
    "with open('/Users/lingfeiw/Documents/research/KatyPNAS/shutian/MaxMatchWOS.txt','r') as f:\n",
    "    for line in f:#158\n",
    "        n+=1\n",
    "        if n%100000==0:\n",
    "            flushPrint(str(n/100000))\n",
    "        line=line.strip().split('\\t')\n",
    "        vs=sorted(line[1:])\n",
    "        for i,j in itertools.combinations(vs, 2):\n",
    "            E[(i,j)]+=1\n",
    "path='/Users/lingfeiw/Documents/research/KatyPNAS/data/skill_cooccur/WOS_Co.txt'\n",
    "with open(path,'w') as f:\n",
    "    for k,v in sorted(E.items(),key=lambda x:-x[1]):\n",
    "        i,j=k\n",
    "        f.write(i+'\\t'+j + '\\t'+str(v)+'\\n')\n",
    "\n",
    "# aggregate data\n",
    "with open('/Users/lingfeiw/Documents/bigdata/openSy/IdAbstract.txt','w') as f:\n",
    "    for nid in range(1000):\n",
    "        nid=str(nid).zfill(5)\n",
    "        address='/Users/lingfeiw/Documents/bigdata/openSyReal/part-'+nid.zfill(5)+'-acad4d4e-3b83-4f3a-a99c-a3e6e7394308-c000.json'\n",
    "        flushPrint(nid)\n",
    "        #for line in open('/Users/lingfeiw/Documents/research/KatyPNAS/openSy/test.json', 'r'):\n",
    "        for line in open(address,'r'):\n",
    "            line=json.loads(line)\n",
    "            idd=line['id']\n",
    "            if 'source_anchor' in line and 'year' in line:\n",
    "                title=line['source_anchor'].lower()\n",
    "                title=title.replace('\\t',' ')\n",
    "                title=title.replace('\\n',' ')\n",
    "                title=title.replace('\\r',' ')\n",
    "                title=title.encode('utf-8','ignore')\n",
    "                text=line['text'].lower()\n",
    "                text=text.replace('\\t',' ')\n",
    "                text=text.replace('\\n',' ')\n",
    "                text=text.replace('\\r',' ')\n",
    "                text=text.encode('utf-8','ignore')\n",
    "                year=line['year']\n",
    "                #year=int(year)\n",
    "                #if 2010<=year<=2016:\n",
    "                f.write(str(year)+'\\t'+str(idd)+'\\t'+title+'\\t'+text +'\\n')\n",
    "# clean data\n",
    "L=defaultdict(int)\n",
    "n=0\n",
    "with open('/Users/lingfeiw/Documents/bigdata/openSy/IdAbstract_2010_2016_clean.txt','w') as wf:\n",
    "    with open('/Users/lingfeiw/Documents/bigdata/openSy/IdAbstract.txt','r') as f:\n",
    "        for line in f:\n",
    "            n+=1\n",
    "            if n%10000==0:\n",
    "                flushPrint(str(n/10000))\n",
    "            year, idd,title,text=line.strip().split('\\t')\n",
    "            if 2010<=int(year)<=2016:\n",
    "                #title=filter(lambda x: x in printable, title)\n",
    "                #text=filter(lambda x: x in printable, text)\n",
    "                text=text.replace('\\t',' ').replace('\\n',' ').replace('\\r',' ')\n",
    "                text=[s for s in text.split(' ') if len(s)<=35]\n",
    "                #\n",
    "                l=len(text)\n",
    "                L[l]+=1\n",
    "                if l>1000:\n",
    "                    text=text[:1000]\n",
    "                text=' '.join(text)\n",
    "                wf.write(year+'\\t'+str(idd)+'\\t'+title+'\\t'+text +'\\n')\n",
    "\n",
    "# calcualte yearly frequency\n",
    "nf=defaultdict(lambda:0)\n",
    "for nid in range(1000):\n",
    "    nid=str(nid).zfill(5)\n",
    "    address='/Users/lingfeiw/Documents/bigdata/openSyReal/part-'+nid.zfill(5)+'-acad4d4e-3b83-4f3a-a99c-a3e6e7394308-c000.json'\n",
    "    flushPrint(nid)\n",
    "    #for line in open('/Users/lingfeiw/Documents/research/KatyPNAS/openSy/test.json', 'r'):\n",
    "    for line in open(address,'r'):\n",
    "        try:\n",
    "            line=json.loads(line)\n",
    "            year=line['year']\n",
    "            nf[year]+=1\n",
    "        except:\n",
    "            pass\n",
    "        \n",
    "# Open syllabus\n",
    "\n",
    "skills={}\n",
    "with open('/Users/lingfeiw/Documents/research/KatyPNAS/shutian/skills-list-MAIN-2010-2016.txt','r') as f:\n",
    "    for line in f:\n",
    "        line=line.strip().split('\\t')\n",
    "        skills[line[0].lower()]=0\n",
    "\n",
    "E=defaultdict(lambda:0)\n",
    "n=0\n",
    "with open('/Users/lingfeiw/Documents/research/KatyPNAS/data/skill_cooccur/OpenSyIdAbstract2010-2016-out.txt','r') as f:\n",
    "    for line in f:#27\n",
    "        n+=1\n",
    "        if n%100000==0:\n",
    "            flushPrint(str(n/100000))\n",
    "        line=line.strip().split('\\t')\n",
    "        vs=sorted([i for i in line if i in skills])\n",
    "        if len(vs)>=2:\n",
    "            for i,j in itertools.combinations(vs, 2):\n",
    "                E[(i,j)]+=1\n",
    "\n",
    "path='/Users/lingfeiw/Documents/research/KatyPNAS/data/skill_cooccur/OpenSy_Co.txt'\n",
    "with open(path,'w') as f:\n",
    "    for k,v in sorted(E.items(),key=lambda x:-x[1]):\n",
    "        i,j=k\n",
    "        if i and j:\n",
    "            f.write(i+'\\t'+j + '\\t'+str(v)+'\\n')\n",
    "\n",
    "'''"
   ]
  },
  {
   "cell_type": "code",
   "execution_count": 2,
   "metadata": {
    "collapsed": false
   },
   "outputs": [
    {
     "data": {
      "text/plain": [
       "2968"
      ]
     },
     "execution_count": 2,
     "metadata": {},
     "output_type": "execute_result"
    }
   ],
   "source": [
    "SE=set()\n",
    "with open('/Users/lingfeiw/Documents/research/KatyPNAS/BG/skills-list-DSDE-2010-2016.txt','rb') as f:\n",
    "    for line in f:\n",
    "        line=line.strip().split('\\r')\n",
    "        SE.add(line[0].lower())\n",
    "len(SE)"
   ]
  },
  {
   "cell_type": "code",
   "execution_count": 7,
   "metadata": {
    "collapsed": false
   },
   "outputs": [
    {
     "name": "stdout",
     "output_type": "stream",
     "text": [
      "27"
     ]
    }
   ],
   "source": [
    "# percentage of DSDE course\n",
    "n=0\n",
    "m=0\n",
    "with open('/Users/lingfeiw/Documents/research/KatyPNAS/data/skill_cooccur/OpenSyIdAbstract2010-2016-out.txt','r') as f:\n",
    "    for line in f:#27\n",
    "        n+=1\n",
    "        if n%100000==0:\n",
    "            flushPrint(str(n/100000))\n",
    "        line=line.strip().split('\\t')\n",
    "        if set(line).intersection(SE):\n",
    "            m+=1"
   ]
  },
  {
   "cell_type": "code",
   "execution_count": 8,
   "metadata": {
    "collapsed": false
   },
   "outputs": [
    {
     "data": {
      "text/plain": [
       "(2731863, 2731863)"
      ]
     },
     "execution_count": 8,
     "metadata": {},
     "output_type": "execute_result"
    }
   ],
   "source": [
    "m,m"
   ]
  },
  {
   "cell_type": "markdown",
   "metadata": {},
   "source": [
    "## 1. Core co-occur data"
   ]
  },
  {
   "cell_type": "code",
   "execution_count": 4,
   "metadata": {
    "collapsed": true
   },
   "outputs": [],
   "source": [
    "a,b,c=[2*6199739000.0,2*112377820.0,2*69275242.0]"
   ]
  },
  {
   "cell_type": "code",
   "execution_count": 7,
   "metadata": {
    "collapsed": false
   },
   "outputs": [
    {
     "name": "stdout",
     "output_type": "stream",
     "text": [
      "17"
     ]
    },
    {
     "data": {
      "text/plain": [
       "13242"
      ]
     },
     "execution_count": 7,
     "metadata": {},
     "output_type": "execute_result"
    }
   ],
   "source": [
    "B={}\n",
    "n=0\n",
    "with open('/Users/lingfeiw/Documents/research/KatyPNAS/data/skill_cooccur/BG_Co.txt','r') as f:\n",
    "    for line in f:#80\n",
    "        n+=1\n",
    "        if n%100000==0:\n",
    "            flushPrint(str(n/100000))\n",
    "        i,j,w=line.strip().split('\\t')\n",
    "        i,j=sorted([i,j])\n",
    "        B[(i,j)]=int(w)/a\n",
    "O={}\n",
    "n=0\n",
    "with open('/Users/lingfeiw/Documents/research/KatyPNAS/data/skill_cooccur/openSy_Co.txt','r') as f:\n",
    "    for line in f:#17\n",
    "        n+=1\n",
    "        if n%100000==0:\n",
    "            flushPrint(str(n/100000))\n",
    "        i,j,w=line.strip().split('\\t')\n",
    "        i,j=sorted([i,j])\n",
    "        O[(i,j)]=int(w)/b\n",
    "W={}\n",
    "n=0\n",
    "with open('/Users/lingfeiw/Documents/research/KatyPNAS/data/skill_cooccur/WOS_Co.txt','r') as f:\n",
    "    for line in f:#163\n",
    "        n+=1\n",
    "        if n%100000==0:\n",
    "            flushPrint(str(n/100000))\n",
    "        i,j,w=line.strip().split('\\t')\n",
    "        i,j=sorted([i,j])\n",
    "        W[(i,j)]=int(w)/c\n",
    "# import skills\n",
    "skills={}\n",
    "with open('/Users/lingfeiw/Documents/research/KatyPNAS/shutian/skills-list-MAIN-2010-2016.txt','r') as f:\n",
    "    for line in f:\n",
    "        line=line.strip().split('\\t')\n",
    "        skills[line[0].lower()]=0\n",
    "len(skills)"
   ]
  },
  {
   "cell_type": "code",
   "execution_count": 11,
   "metadata": {
    "collapsed": false
   },
   "outputs": [
    {
     "data": {
      "text/plain": [
       "(8080559, 1715255, 1750532, 13242)"
      ]
     },
     "execution_count": 11,
     "metadata": {},
     "output_type": "execute_result"
    }
   ],
   "source": [
    "len(B),len(W),len(O),len(skills)"
   ]
  },
  {
   "cell_type": "markdown",
   "metadata": {},
   "source": [
    "## 1.1  probability of single skills in three datasets"
   ]
  },
  {
   "cell_type": "code",
   "execution_count": 12,
   "metadata": {
    "collapsed": false
   },
   "outputs": [],
   "source": [
    "#\n",
    "fb=defaultdict(int)\n",
    "for k,w in B.items():\n",
    "    i,j=k\n",
    "    fb[i]+=w\n",
    "    fb[j]+=w\n",
    "fw=defaultdict(int)\n",
    "for k,w in W.items():\n",
    "    i,j=k\n",
    "    fw[i]+=w\n",
    "    fw[j]+=w\n",
    "fo=defaultdict(int)\n",
    "for k,w in O.items():\n",
    "    i,j=k\n",
    "    fo[i]+=w\n",
    "    fo[j]+=w\n",
    "b,w,o=np.array([[fb[i],fw[i],fo[i]] for i in skills if fb[i]*fw[i]*fo[i]>0]).T\n",
    "lb,lo,lw=[np.log(b),np.log(o),np.log(w)]"
   ]
  },
  {
   "cell_type": "code",
   "execution_count": 17,
   "metadata": {
    "collapsed": false
   },
   "outputs": [
    {
     "data": {
      "text/plain": [
       "((0.64377338709745113, 0.0),\n",
       " (0.43214183126932632, 3.8312202919135753e-316),\n",
       " (0.080490278980824989, 1.5818509287704315e-11),\n",
       " 6992)"
      ]
     },
     "execution_count": 17,
     "metadata": {},
     "output_type": "execute_result"
    }
   ],
   "source": [
    "pearsonr(lb,lo),pearsonr(lw,lo),pearsonr(lb,lw),len(b)"
   ]
  },
  {
   "cell_type": "markdown",
   "metadata": {},
   "source": [
    "## 1.2 Pairwise combination of skills"
   ]
  },
  {
   "cell_type": "code",
   "execution_count": 23,
   "metadata": {
    "collapsed": false
   },
   "outputs": [],
   "source": [
    "u = set.intersection(set(B.keys()),set(W.keys()),set(O.keys()))"
   ]
  },
  {
   "cell_type": "code",
   "execution_count": 25,
   "metadata": {
    "collapsed": false
   },
   "outputs": [],
   "source": [
    "U={}\n",
    "for i in u:\n",
    "    U[i]=[B[i],W[i],O[i]]"
   ]
  },
  {
   "cell_type": "code",
   "execution_count": 27,
   "metadata": {
    "collapsed": false
   },
   "outputs": [
    {
     "data": {
      "text/plain": [
       "381879"
      ]
     },
     "execution_count": 27,
     "metadata": {},
     "output_type": "execute_result"
    }
   ],
   "source": [
    "len(U)"
   ]
  },
  {
   "cell_type": "code",
   "execution_count": 30,
   "metadata": {
    "collapsed": true
   },
   "outputs": [],
   "source": [
    "b1,w1,o1=np.array(U.values()).T\n",
    "lb1,lo1,lw1=[np.log(b1),np.log(o1),np.log(w1)]"
   ]
  },
  {
   "cell_type": "code",
   "execution_count": 51,
   "metadata": {
    "collapsed": false
   },
   "outputs": [
    {
     "data": {
      "text/plain": [
       "((0.53780738345087853, 0.0),\n",
       " (0.19253551157879725, 0.0),\n",
       " (-0.053266403554345955, 5.8877959603931924e-238),\n",
       " 381879)"
      ]
     },
     "execution_count": 51,
     "metadata": {},
     "output_type": "execute_result"
    }
   ],
   "source": [
    "pearsonr(lb1,lo1),pearsonr(lw1,lo1),pearsonr(lb1,lw1),len(b1)"
   ]
  },
  {
   "cell_type": "code",
   "execution_count": 33,
   "metadata": {
    "collapsed": true
   },
   "outputs": [],
   "source": [
    "def densitydataPlot(dx,dy,xmin, xmax,ymin, ymax,dataArray):\n",
    "    a,b=dataArray.T\n",
    "    Y, X = np.mgrid[slice(xmin, xmax + dy, dy),\n",
    "                    slice(ymin, ymax + dx, dx)]\n",
    "    def Zdensityfunction(X,Y,dx,dy):\n",
    "        nX=X.reshape([X.shape[0]*X.shape[1],1])\n",
    "        nY=Y.reshape([Y.shape[0]*Y.shape[1],1])\n",
    "        nXY=np.concatenate((nX,nY), axis=1)\n",
    "        nZ=[]\n",
    "        for i in nXY:\n",
    "            x,y = i\n",
    "            z = len([j for j in dataArray if j[0]>x-dx and j[0]<x+dx and j[1]>y-dy and j[1]<y+dy])\n",
    "            nZ.append(z)\n",
    "        return np.array(nZ).reshape(X.shape)\n",
    "    Z=Zdensityfunction(X,Y,dx,dy)    \n",
    "    plt.contourf(X + dx , Y + dy , Z,cmap =\"RdBu_r\",origin='lower')\n",
    "    #plt.xlim(-20,0)\n",
    "    plt.colorbar()"
   ]
  },
  {
   "cell_type": "code",
   "execution_count": 241,
   "metadata": {
    "collapsed": false
   },
   "outputs": [
    {
     "data": {
      "image/png": "[encoded data removed]",
      "text/plain": [
       "<matplotlib.figure.Figure at 0x1d6dcf5d0>"
      ]
     },
     "metadata": {},
     "output_type": "display_data"
    }
   ],
   "source": [
    "fig = plt.figure(figsize=(12, 8))\n",
    "ax = fig.add_subplot(231)\n",
    "dd=1\n",
    "densitydataPlot(dd,dd,-20,0,-20,0,np.array(zip(lo,lb)))\n",
    "plt.xlabel(r'$Log\\,(p_{i}^{Courses})$',size=16)\n",
    "plt.ylabel(r'$Log\\,(p_{i}^{Jobs})$',size=16)\n",
    "plt.text(-17,-2,'r = .64***',size=14)\n",
    "#\n",
    "ax = fig.add_subplot(232)\n",
    "densitydataPlot(dd,dd,-20,0,-20,0,np.array(zip(lo,lw)))\n",
    "plt.xlabel(r'$Log\\,(p_{i}^{Courses})$',size=16)\n",
    "plt.ylabel(r'$Log\\,(p_{i}^{Pubs})$',size=16)\n",
    "plt.text(-17,-2,'r = .42***',size=14)\n",
    "#\n",
    "ax = fig.add_subplot(233)\n",
    "densitydataPlot(dd,dd,-20,0,-20,0,np.array(zip(lb,lw)))\n",
    "plt.xlabel(r'$Log\\,(p_{i}^{Jobs})$',size=16)\n",
    "plt.ylabel(r'$Log\\,(p_{i}^{Pubs})$',size=16)\n",
    "plt.text(-17,-2,'r = .08***',size=14)\n",
    "#\n",
    "ax = fig.add_subplot(234)\n",
    "densitydataPlot(dd,dd,-25,-5,-25,-5,np.array(random.sample(zip(lo1,lb1),10000)))\n",
    "plt.xlabel(r'$Log\\,(p_{ij}^{Courses})$',size=16)\n",
    "plt.ylabel(r'$Log\\,(p_{ij}^{Jobs})$',size=16)\n",
    "plt.text(-22,-7,'r = .54***',size=14)\n",
    "#\n",
    "ax = fig.add_subplot(235)\n",
    "densitydataPlot(dd,dd,-25,-5,-25,-5,np.array(random.sample(zip(lo1,lw1),10000)))\n",
    "plt.xlabel(r'$Log\\,(p_{ij}^{Courses})$',size=16)\n",
    "plt.ylabel(r'$Log\\,(p_{ij}^{Pubs})$',size=16)\n",
    "plt.text(-22,-7,'r = .19***',size=14)\n",
    "#\n",
    "ax = fig.add_subplot(236)\n",
    "densitydataPlot(dd,dd,-25,-5,-25,-5,np.array(random.sample(zip(lb1,lw1),10000)))\n",
    "plt.xlabel(r'$Log\\,(p_{ij}^{Jobs})$',size=16)\n",
    "plt.ylabel(r'$Log\\,(p_{ij}^{Pubs})$',size=16)\n",
    "plt.text(-22,-7,'r = -.05***',size=14)\n",
    "#\n",
    "plt.tight_layout()\n",
    "plt.savefig('/Users/lingfeiw/Documents/research/KatyPNAS/data/skill_cooccur/pearson.pdf')"
   ]
  },
  {
   "cell_type": "markdown",
   "metadata": {},
   "source": [
    "## 1.3 Pairwise combinations for embedding"
   ]
  },
  {
   "cell_type": "code",
   "execution_count": 161,
   "metadata": {
    "collapsed": false
   },
   "outputs": [
    {
     "data": {
      "text/plain": [
       "6992"
      ]
     },
     "execution_count": 161,
     "metadata": {},
     "output_type": "execute_result"
    }
   ],
   "source": [
    "# top 1000 skills\n",
    "ts=sorted([(fb[i]+fo[i]+fw[i],i) for i in skills if fb[i]*fw[i]*fo[i]>0],reverse=True)\n",
    "len(ts)"
   ]
  },
  {
   "cell_type": "code",
   "execution_count": 162,
   "metadata": {
    "collapsed": true
   },
   "outputs": [],
   "source": [
    "top1000=zip(*ts[:1000])[1]\n",
    "top1000s=set(top1000)\n",
    "path='/Users/lingfeiw/Documents/research/KatyPNAS/data/skill_cooccur/BGskillsTop1000.txt'\n",
    "#with open(path,'w') as f:\n",
    "#    for i in top1000:\n",
    "#        vs=[i,fb[i],fo[i],fw[i]]\n",
    "#        f.write('\\t'.join(map(str,vs))+'\\n')"
   ]
  },
  {
   "cell_type": "code",
   "execution_count": 156,
   "metadata": {
    "collapsed": false
   },
   "outputs": [],
   "source": [
    "'''\n",
    "def exportSkeleton(B,top1000s,path):\n",
    "    F=defaultdict(lambda:[])\n",
    "    for k,w in B.items():\n",
    "        i,j=k\n",
    "        if i in top1000s and j in top1000s:\n",
    "            F[i].append([w,j])\n",
    "            F[j].append([w,i])\n",
    "    E={}\n",
    "    for s in top1000s:\n",
    "        for w,j in sorted(F[s],reverse=True)[:10]:\n",
    "            E[(s,j)]=w\n",
    "    with open(path,'w') as f:\n",
    "        for k,v in sorted(E.items(),key=lambda x:-x[1]):\n",
    "            i,j=k\n",
    "            v=int(v/min(E.values()))\n",
    "            f.write(i+'\\t'+j + '\\t'+str(v)+'\\n')\n",
    "        \n",
    "path='/Users/lingfeiw/Documents/research/KatyPNAS/data/skill_cooccur/OpenSy_CoTop10000.tsv'\n",
    "exportSkeleton(O,top1000s,path)\n",
    "'''"
   ]
  },
  {
   "cell_type": "code",
   "execution_count": 129,
   "metadata": {
    "collapsed": false
   },
   "outputs": [],
   "source": [
    "with open(\"/Users/lingfeiw/Documents/research/KatyPNAS/data/skill_cooccur/OpenSy.tsv\", 'rb') as f:\n",
    "    for line in f:\n",
    "        i,j,w=line.strip().split('\\t')\n",
    "        gS.add_edge(i,j,weight=int(w))"
   ]
  },
  {
   "cell_type": "markdown",
   "metadata": {},
   "source": [
    "# Embedding "
   ]
  },
  {
   "cell_type": "code",
   "execution_count": 10,
   "metadata": {
    "collapsed": true
   },
   "outputs": [],
   "source": [
    "def getData(path,fb):\n",
    "    pt = th.load(path)\n",
    "    pos=dict(zip(pt['objects'],pt['model']['lt.weight'].numpy()))\n",
    "    posP=dict((i,cart2pol(*pos[i])) for i in pos)\n",
    "    ks=np.array([fb[s] for s in posP])*10000+3\n",
    "    return posP,ks"
   ]
  },
  {
   "cell_type": "code",
   "execution_count": 11,
   "metadata": {
    "collapsed": true
   },
   "outputs": [],
   "source": [
    "top1000=[]\n",
    "fb={}\n",
    "fo={}\n",
    "fw={}\n",
    "with open('/Users/lingfeiw/Documents/research/KatyPNAS/data/skill_cooccur/BGskillsTop1000.txt', 'rb') as f:\n",
    "    for line in f:\n",
    "        s,b,o,w=line.strip().split('\\t')\n",
    "        top1000.append(s)\n",
    "        fb[s]=float(b)\n",
    "        fo[s]=float(o)\n",
    "        fw[s]=float(w)"
   ]
  },
  {
   "cell_type": "code",
   "execution_count": 12,
   "metadata": {
    "collapsed": false
   },
   "outputs": [],
   "source": [
    "Eb={}\n",
    "with open(\"/Users/lingfeiw/Documents/research/KatyPNAS/data/skill_cooccur/BG_CoTop10000.tsv\", 'rb') as f:\n",
    "    for line in f:\n",
    "        i,j,w=line.strip().split('\\t')\n",
    "        Eb[(i,j)]=int(w)/(2*6199739000.0)\n",
    "Eo={}\n",
    "with open(\"/Users/lingfeiw/Documents/research/KatyPNAS/data/skill_cooccur/OpenSy_CoTop10000.tsv\", 'rb') as f:\n",
    "    for line in f:\n",
    "        i,j,w=line.strip().split('\\t')\n",
    "        Eo[(i,j)]=int(w)/(2*112377820.0)\n",
    "Ew={}\n",
    "with open(\"/Users/lingfeiw/Documents/research/KatyPNAS/data/skill_cooccur/WOS_CoTop10000.tsv\", 'rb') as f:\n",
    "    for line in f:\n",
    "        i,j,w=line.strip().split('\\t')\n",
    "        Ew[(i,j)]=int(w)/(2*69275242.0)"
   ]
  },
  {
   "cell_type": "code",
   "execution_count": 13,
   "metadata": {
    "collapsed": false
   },
   "outputs": [],
   "source": [
    "pathb=\"/Users/lingfeiw/Documents/research/KatyPNAS/data/skill_cooccur/BG_CoTop10000.pt\"\n",
    "posPb,ksb=getData(pathb,fb)\n",
    "patho=\"/Users/lingfeiw/Documents/research/KatyPNAS/data/skill_cooccur/OpenSy_CoTop10000.pt\"\n",
    "posPo,kso=getData(patho,fo)\n",
    "pathw=\"/Users/lingfeiw/Documents/research/KatyPNAS/data/skill_cooccur/WOS_CoTop10000.pt\"\n",
    "posPw,ksw=getData(pathw,fw)"
   ]
  },
  {
   "cell_type": "code",
   "execution_count": 22,
   "metadata": {
    "collapsed": false
   },
   "outputs": [
    {
     "name": "stdout",
     "output_type": "stream",
     "text": [
      "('customer service', 'communication skills') 0.000736165828916\n",
      "('management', 'communication skills') 0.000951924750381\n",
      "('communication skills', 'sales') 0.000708069000969\n",
      "('communication skills', 'management') 0.000951924750381\n",
      "('sales', 'communication skills') 0.000708069000969\n",
      "('communication skills', 'customer service') 0.000736165828916\n"
     ]
    }
   ],
   "source": [
    "for i in Eb:\n",
    "    if 'communication skills' in i:\n",
    "        w=np.round(Eb[i],3)\n",
    "        if w>0:\n",
    "            print i,Eb[i]"
   ]
  },
  {
   "cell_type": "code",
   "execution_count": null,
   "metadata": {
    "collapsed": true
   },
   "outputs": [],
   "source": []
  },
  {
   "cell_type": "code",
   "execution_count": 234,
   "metadata": {
    "collapsed": false
   },
   "outputs": [
    {
     "data": {
      "text/plain": [
       "('management',\n",
       " 'communication skills',\n",
       " 'sales',\n",
       " 'customer service',\n",
       " 'leadership',\n",
       " 'marketing',\n",
       " 'research',\n",
       " 'planning',\n",
       " 'finance',\n",
       " 'problem solving')"
      ]
     },
     "execution_count": 234,
     "metadata": {},
     "output_type": "execute_result"
    }
   ],
   "source": [
    "zip(*sorted(fb.items(),key=lambda x:-x[1])[:10])[0]"
   ]
  },
  {
   "cell_type": "code",
   "execution_count": 235,
   "metadata": {
    "collapsed": true
   },
   "outputs": [],
   "source": [
    "topB=['management',\n",
    " 'communication skills',\n",
    " 'sales',\n",
    " 'customer service',\n",
    " 'leadership',\n",
    " 'marketing',\n",
    " 'research',\n",
    " 'planning',\n",
    " 'finance',\n",
    " 'problem solving']\n",
    "software=['javascript','sql','java','linux','microsoft excel','perl','sas','matlab',\n",
    "         'mysql','spss']"
   ]
  },
  {
   "cell_type": "code",
   "execution_count": 254,
   "metadata": {
    "collapsed": false
   },
   "outputs": [],
   "source": [
    "topb=zip(*sorted(fb.items(),key=lambda x:-x[1])[:20])[0]\n",
    "topo=zip(*sorted(fo.items(),key=lambda x:-x[1])[:20])[0]\n",
    "topw=zip(*sorted(fw.items(),key=lambda x:-x[1])[:20])[0]"
   ]
  },
  {
   "cell_type": "code",
   "execution_count": 2,
   "metadata": {
    "collapsed": false
   },
   "outputs": [
    {
     "ename": "NameError",
     "evalue": "name 'np' is not defined",
     "output_type": "error",
     "traceback": [
      "\u001b[0;31m---------------------------------------------------------------------------\u001b[0m",
      "\u001b[0;31mNameError\u001b[0m                                 Traceback (most recent call last)",
      "\u001b[0;32m<ipython-input-2-6e72e2602eb9>\u001b[0m in \u001b[0;36m<module>\u001b[0;34m()\u001b[0m\n\u001b[1;32m      1\u001b[0m \u001b[0;32mimport\u001b[0m \u001b[0mmatplotlib\u001b[0m\u001b[0;34m.\u001b[0m\u001b[0mpyplot\u001b[0m \u001b[0;32mas\u001b[0m \u001b[0mplt\u001b[0m\u001b[0;34m\u001b[0m\u001b[0m\n\u001b[1;32m      2\u001b[0m \u001b[0mplt\u001b[0m\u001b[0;34m.\u001b[0m\u001b[0mrcParams\u001b[0m\u001b[0;34m[\u001b[0m\u001b[0;34m'svg.fonttype'\u001b[0m\u001b[0;34m]\u001b[0m \u001b[0;34m=\u001b[0m \u001b[0;34m'none'\u001b[0m\u001b[0;34m\u001b[0m\u001b[0m\n\u001b[0;32m----> 3\u001b[0;31m \u001b[0mnp\u001b[0m\u001b[0;34m.\u001b[0m\u001b[0mseterr\u001b[0m\u001b[0;34m(\u001b[0m\u001b[0mdivide\u001b[0m\u001b[0;34m=\u001b[0m\u001b[0;34m'ignore'\u001b[0m\u001b[0;34m,\u001b[0m \u001b[0minvalid\u001b[0m\u001b[0;34m=\u001b[0m\u001b[0;34m'ignore'\u001b[0m\u001b[0;34m)\u001b[0m \u001b[0;31m# to remove warning messages\u001b[0m\u001b[0;34m\u001b[0m\u001b[0m\n\u001b[0m\u001b[1;32m      4\u001b[0m \u001b[0mfig\u001b[0m \u001b[0;34m=\u001b[0m \u001b[0mplt\u001b[0m\u001b[0;34m.\u001b[0m\u001b[0mfigure\u001b[0m\u001b[0;34m(\u001b[0m\u001b[0mfigsize\u001b[0m\u001b[0;34m=\u001b[0m\u001b[0;34m(\u001b[0m\u001b[0;36m15\u001b[0m\u001b[0;34m,\u001b[0m \u001b[0;36m5\u001b[0m\u001b[0;34m)\u001b[0m\u001b[0;34m)\u001b[0m\u001b[0;34m\u001b[0m\u001b[0m\n\u001b[1;32m      5\u001b[0m \u001b[0;31m#cmap = cm.get_cmap('rainbow_r',10)\u001b[0m\u001b[0;34m\u001b[0m\u001b[0;34m\u001b[0m\u001b[0m\n",
      "\u001b[0;31mNameError\u001b[0m: name 'np' is not defined"
     ]
    }
   ],
   "source": [
    "\n",
    "\n",
    "fig = plt.figure(figsize=(15, 5))\n",
    "#cmap = cm.get_cmap('rainbow_r',10)\n",
    "ax = fig.add_subplot(131, projection='polar')\n",
    "embeddingP = np.array([posPb.values()]).T\n",
    "ax.scatter(embeddingP[0], embeddingP[1],c='SteelBlue',\n",
    "           s=ksb,linewidth=0,alpha=0.7,zorder=2)\n",
    "for i in topB:\n",
    "    phi,rho=posPb[i]\n",
    "    plt.text(phi,rho,i,ha='center',color='Orange',size=8)\n",
    "for i in software:\n",
    "    phi,rho=posPb[i]\n",
    "    plt.text(phi,rho,i,ha='center',size=8)\n",
    "for i in topb:\n",
    "    if i not in topB and i not in software:\n",
    "        phi,rho=posPb[i]\n",
    "        plt.text(phi,rho,i,ha='center',color='SteelBlue',size=8)\n",
    "for k,v in Eb.items():\n",
    "    i,j=k\n",
    "    if v>0.00001:\n",
    "        xi,yi=posPb[i]\n",
    "        xj,yj=posPb[j]\n",
    "        plt.plot([xi,xj],[yi,yj],color='gray',alpha=v*1000,linewidth=v*10000,zorder=1)\n",
    "ax.set_rmax(1)\n",
    "ax.set_yticklabels('')\n",
    "ax.yaxis.grid(True,color='gray',alpha=0.5,linestyle='-')\n",
    "ax.spines['polar'].set_visible(False)\n",
    "ax.xaxis.grid(True,color='gray',alpha=0.5,linestyle='-')\n",
    "plt.title('Jobs',size=14,y=1.1)\n",
    "#\n",
    "ax = fig.add_subplot(132, projection='polar')\n",
    "embeddingP = np.array([posPo.values()]).T\n",
    "ax.scatter(embeddingP[0], embeddingP[1],c='r',\n",
    "           s=kso,linewidth=0,alpha=0.5,zorder=2)\n",
    "for i in topB:\n",
    "    phi,rho=posPo[i]\n",
    "    plt.text(phi,rho,i,ha='center',color='Orange',size=8)\n",
    "for i in software:\n",
    "    phi,rho=posPo[i]\n",
    "    plt.text(phi,rho,i,ha='center',size=8)\n",
    "for i in topo:\n",
    "    if i not in topB and i not in software:\n",
    "        phi,rho=posPo[i]\n",
    "        plt.text(phi,rho,i,ha='center',color='r',size=8)\n",
    "for k,v in Eo.items():\n",
    "    i,j=k\n",
    "    if v>0.00001:\n",
    "        xi,yi=posPo[i]\n",
    "        xj,yj=posPo[j]\n",
    "        plt.plot([xi,xj],[yi,yj],color='gray',alpha=v*1000,linewidth=v*10000,zorder=1)\n",
    "ax.set_rmax(1)\n",
    "ax.set_yticklabels('')\n",
    "ax.yaxis.grid(True,color='gray',alpha=0.5,linestyle='-')\n",
    "ax.spines['polar'].set_visible(False)\n",
    "ax.xaxis.grid(True,color='gray',alpha=0.5,linestyle='-')\n",
    "plt.title('Courses',size=14,y=1.1)\n",
    "#\n",
    "ax = fig.add_subplot(133, projection='polar')\n",
    "embeddingP = np.array([posPw.values()]).T\n",
    "ax.scatter(embeddingP[0], embeddingP[1],c='#458B74',\n",
    "           s=ksw,linewidth=0,alpha=0.7,zorder=2)\n",
    "for i in topB:\n",
    "    phi,rho=posPw[i]\n",
    "    plt.text(phi,rho,i,ha='center',color='Orange',size=8)\n",
    "for i in software:\n",
    "    phi,rho=posPw[i]\n",
    "    plt.text(phi,rho,i,ha='center',size=8)\n",
    "for i in topw:\n",
    "    if i not in topB and i not in software:\n",
    "        phi,rho=posPw[i]\n",
    "        plt.text(phi,rho,i,ha='center',color='#458B74',size=8)\n",
    "for k,v in Ew.items():\n",
    "    i,j=k\n",
    "    if v>0.00001:\n",
    "        xi,yi=posPw[i]\n",
    "        xj,yj=posPw[j]\n",
    "        plt.plot([xi,xj],[yi,yj],color='gray',alpha=v*1000,linewidth=v*10000,zorder=1)\n",
    "ax.set_rmax(1)\n",
    "ax.set_yticklabels('')\n",
    "ax.yaxis.grid(True,color='gray',alpha=0.5,linestyle='-')\n",
    "ax.spines['polar'].set_visible(False)\n",
    "ax.xaxis.grid(True,color='gray',alpha=0.5,linestyle='-')\n",
    "plt.title('Publications',size=14,y=1.1)\n",
    "#\n",
    "plt.tight_layout()\n",
    "plt.subplots_adjust(top=0.8)\n",
    "#plt.savefig('/Users/lingfeiw/Documents/research/KatyPNAS/data/skill_cooccur/hyper.pdf')"
   ]
  },
  {
   "cell_type": "code",
   "execution_count": null,
   "metadata": {
    "collapsed": true
   },
   "outputs": [],
   "source": []
  }
 ],
 "metadata": {
  "kernelspec": {
   "display_name": "Python [anaconda]",
   "language": "python",
   "name": "Python [anaconda]"
  },
  "language_info": {
   "codemirror_mode": {
    "name": "ipython",
    "version": 2
   },
   "file_extension": ".py",
   "mimetype": "text/x-python",
   "name": "python",
   "nbconvert_exporter": "python",
   "pygments_lexer": "ipython2",
   "version": "2.7.12"
  }
 },
 "nbformat": 4,
 "nbformat_minor": 0
}
